{
 "cells": [
  {
   "cell_type": "markdown",
   "id": "af2b2c7d",
   "metadata": {},
   "source": [
    "--------    -------------------------------------------\n",
    "#### Goal\n",
    "-------------------\n",
    "\n",
    "To build and ANN model for predicting flower species"
   ]
  },
  {
   "cell_type": "markdown",
   "id": "dcbda099",
   "metadata": {},
   "source": [
    "- We will build a deep learning model to predict the type of flower with the iris data set\n",
    "- The Iris data set is popular machine learning data set\n",
    "- The data set has four feature variables about the flower namely\n",
    "    1. Sepal length\n",
    "    2. Sepal width\n",
    "    3. Petal length\n",
    "    4. Petal width\n",
    "- The target class is the type of species.\n",
    "- There are three classes  namely\n",
    "    1. Setosa\n",
    "    2. Versicolor\n",
    "    3. Virginica\n",
    "\n"
   ]
  },
  {
   "cell_type": "code",
   "execution_count": 161,
   "id": "91a620e7",
   "metadata": {},
   "outputs": [],
   "source": [
    "# importing libraries\n",
    "import numpy as np,pandas as pd\n",
    "import matplotlib.pyplot as plt\n",
    "import os\n",
    "import tensorflow as tf\n",
    "from sklearn.model_selection import train_test_split\n",
    "from sklearn.preprocessing import StandardScaler"
   ]
  },
  {
   "cell_type": "code",
   "execution_count": 162,
   "id": "41b332ff",
   "metadata": {},
   "outputs": [
    {
     "data": {
      "text/html": [
       "<div>\n",
       "<style scoped>\n",
       "    .dataframe tbody tr th:only-of-type {\n",
       "        vertical-align: middle;\n",
       "    }\n",
       "\n",
       "    .dataframe tbody tr th {\n",
       "        vertical-align: top;\n",
       "    }\n",
       "\n",
       "    .dataframe thead th {\n",
       "        text-align: right;\n",
       "    }\n",
       "</style>\n",
       "<table border=\"1\" class=\"dataframe\">\n",
       "  <thead>\n",
       "    <tr style=\"text-align: right;\">\n",
       "      <th></th>\n",
       "      <th>Sepal.Length</th>\n",
       "      <th>Sepal.Width</th>\n",
       "      <th>Petal.Length</th>\n",
       "      <th>Petal.Width</th>\n",
       "      <th>Species</th>\n",
       "    </tr>\n",
       "  </thead>\n",
       "  <tbody>\n",
       "    <tr>\n",
       "      <th>0</th>\n",
       "      <td>5.1</td>\n",
       "      <td>3.5</td>\n",
       "      <td>1.4</td>\n",
       "      <td>0.2</td>\n",
       "      <td>setosa</td>\n",
       "    </tr>\n",
       "    <tr>\n",
       "      <th>1</th>\n",
       "      <td>4.9</td>\n",
       "      <td>3.0</td>\n",
       "      <td>1.4</td>\n",
       "      <td>0.2</td>\n",
       "      <td>setosa</td>\n",
       "    </tr>\n",
       "    <tr>\n",
       "      <th>2</th>\n",
       "      <td>4.7</td>\n",
       "      <td>3.2</td>\n",
       "      <td>1.3</td>\n",
       "      <td>0.2</td>\n",
       "      <td>setosa</td>\n",
       "    </tr>\n",
       "    <tr>\n",
       "      <th>3</th>\n",
       "      <td>4.6</td>\n",
       "      <td>3.1</td>\n",
       "      <td>1.5</td>\n",
       "      <td>0.2</td>\n",
       "      <td>setosa</td>\n",
       "    </tr>\n",
       "    <tr>\n",
       "      <th>4</th>\n",
       "      <td>5.0</td>\n",
       "      <td>3.6</td>\n",
       "      <td>1.4</td>\n",
       "      <td>0.2</td>\n",
       "      <td>setosa</td>\n",
       "    </tr>\n",
       "  </tbody>\n",
       "</table>\n",
       "</div>"
      ],
      "text/plain": [
       "   Sepal.Length  Sepal.Width  Petal.Length  Petal.Width Species\n",
       "0           5.1          3.5           1.4          0.2  setosa\n",
       "1           4.9          3.0           1.4          0.2  setosa\n",
       "2           4.7          3.2           1.3          0.2  setosa\n",
       "3           4.6          3.1           1.5          0.2  setosa\n",
       "4           5.0          3.6           1.4          0.2  setosa"
      ]
     },
     "execution_count": 162,
     "metadata": {},
     "output_type": "execute_result"
    }
   ],
   "source": [
    "## Loading data into a pandas dataframe\n",
    "df = pd.read_csv('iris.csv')\n",
    "df.head()"
   ]
  },
  {
   "cell_type": "markdown",
   "id": "0b74d93b",
   "metadata": {},
   "source": [
    "## Data pre-processing"
   ]
  },
  {
   "cell_type": "markdown",
   "id": "5cf78796",
   "metadata": {},
   "source": [
    "- The target variable contains string values, so we need to convert the string values to numeric form\n",
    "- I will use a Label encoder to convert String to numeric values "
   ]
  },
  {
   "cell_type": "code",
   "execution_count": 163,
   "id": "18a44737",
   "metadata": {},
   "outputs": [
    {
     "data": {
      "text/plain": [
       "setosa        50\n",
       "versicolor    50\n",
       "virginica     50\n",
       "Name: Species, dtype: int64"
      ]
     },
     "execution_count": 163,
     "metadata": {},
     "output_type": "execute_result"
    }
   ],
   "source": [
    "# species composition\n",
    "df.Species.value_counts()"
   ]
  },
  {
   "cell_type": "code",
   "execution_count": 164,
   "id": "e022c2f0",
   "metadata": {},
   "outputs": [
    {
     "data": {
      "text/html": [
       "<div>\n",
       "<style scoped>\n",
       "    .dataframe tbody tr th:only-of-type {\n",
       "        vertical-align: middle;\n",
       "    }\n",
       "\n",
       "    .dataframe tbody tr th {\n",
       "        vertical-align: top;\n",
       "    }\n",
       "\n",
       "    .dataframe thead th {\n",
       "        text-align: right;\n",
       "    }\n",
       "</style>\n",
       "<table border=\"1\" class=\"dataframe\">\n",
       "  <thead>\n",
       "    <tr style=\"text-align: right;\">\n",
       "      <th></th>\n",
       "      <th>Sepal.Length</th>\n",
       "      <th>Sepal.Width</th>\n",
       "      <th>Petal.Length</th>\n",
       "      <th>Petal.Width</th>\n",
       "      <th>Species</th>\n",
       "    </tr>\n",
       "  </thead>\n",
       "  <tbody>\n",
       "    <tr>\n",
       "      <th>0</th>\n",
       "      <td>5.1</td>\n",
       "      <td>3.5</td>\n",
       "      <td>1.4</td>\n",
       "      <td>0.2</td>\n",
       "      <td>0</td>\n",
       "    </tr>\n",
       "    <tr>\n",
       "      <th>1</th>\n",
       "      <td>4.9</td>\n",
       "      <td>3.0</td>\n",
       "      <td>1.4</td>\n",
       "      <td>0.2</td>\n",
       "      <td>0</td>\n",
       "    </tr>\n",
       "    <tr>\n",
       "      <th>2</th>\n",
       "      <td>4.7</td>\n",
       "      <td>3.2</td>\n",
       "      <td>1.3</td>\n",
       "      <td>0.2</td>\n",
       "      <td>0</td>\n",
       "    </tr>\n",
       "    <tr>\n",
       "      <th>3</th>\n",
       "      <td>4.6</td>\n",
       "      <td>3.1</td>\n",
       "      <td>1.5</td>\n",
       "      <td>0.2</td>\n",
       "      <td>0</td>\n",
       "    </tr>\n",
       "    <tr>\n",
       "      <th>4</th>\n",
       "      <td>5.0</td>\n",
       "      <td>3.6</td>\n",
       "      <td>1.4</td>\n",
       "      <td>0.2</td>\n",
       "      <td>0</td>\n",
       "    </tr>\n",
       "  </tbody>\n",
       "</table>\n",
       "</div>"
      ],
      "text/plain": [
       "   Sepal.Length  Sepal.Width  Petal.Length  Petal.Width  Species\n",
       "0           5.1          3.5           1.4          0.2        0\n",
       "1           4.9          3.0           1.4          0.2        0\n",
       "2           4.7          3.2           1.3          0.2        0\n",
       "3           4.6          3.1           1.5          0.2        0\n",
       "4           5.0          3.6           1.4          0.2        0"
      ]
     },
     "execution_count": 164,
     "metadata": {},
     "output_type": "execute_result"
    }
   ],
   "source": [
    "# converting values in target variable to numeric form\n",
    "from sklearn import preprocessing\n",
    "label_encoder = preprocessing.LabelEncoder()\n",
    "df['Species'] = label_encoder.fit_transform(df['Species'])\n",
    "df.head()"
   ]
  },
  {
   "cell_type": "code",
   "execution_count": 165,
   "id": "c11eb86a",
   "metadata": {},
   "outputs": [
    {
     "data": {
      "text/plain": [
       "0    50\n",
       "1    50\n",
       "2    50\n",
       "Name: Species, dtype: int64"
      ]
     },
     "execution_count": 165,
     "metadata": {},
     "output_type": "execute_result"
    }
   ],
   "source": [
    "df.Species.value_counts()"
   ]
  },
  {
   "cell_type": "markdown",
   "id": "51745f8b",
   "metadata": {},
   "source": [
    "- We need to convert the dataframe into numpy array becuse it is the preferred input format for deep learning"
   ]
  },
  {
   "cell_type": "code",
   "execution_count": 166,
   "id": "da6ec277",
   "metadata": {},
   "outputs": [],
   "source": [
    "# converting df to numpy\n",
    "df_np = df.to_numpy()"
   ]
  },
  {
   "cell_type": "code",
   "execution_count": 167,
   "id": "228cf9c7",
   "metadata": {},
   "outputs": [
    {
     "data": {
      "text/plain": [
       "array([[5.1, 3.5, 1.4, 0.2, 0. ],\n",
       "       [4.9, 3. , 1.4, 0.2, 0. ],\n",
       "       [4.7, 3.2, 1.3, 0.2, 0. ],\n",
       "       [4.6, 3.1, 1.5, 0.2, 0. ],\n",
       "       [5. , 3.6, 1.4, 0.2, 0. ]])"
      ]
     },
     "execution_count": 167,
     "metadata": {},
     "output_type": "execute_result"
    }
   ],
   "source": [
    "df_np[0:5,:]"
   ]
  },
  {
   "cell_type": "code",
   "execution_count": 168,
   "id": "41f96e09",
   "metadata": {},
   "outputs": [
    {
     "name": "stdout",
     "output_type": "stream",
     "text": [
      "Features before scaling \n",
      "-------------------------------------------\n",
      "[[5.1 3.5 1.4 0.2]\n",
      " [4.9 3.  1.4 0.2]\n",
      " [4.7 3.2 1.3 0.2]\n",
      " [4.6 3.1 1.5 0.2]\n",
      " [5.  3.6 1.4 0.2]]\n",
      "\n",
      "Target before scaling  \n",
      "-------------------------------------------\n",
      "[0. 0. 0. 0. 0.]\n"
     ]
    }
   ],
   "source": [
    "#Separating feature (X) and target(y) variables\n",
    "\n",
    "X = df_np[:,0:4]\n",
    "y = df_np[:,4]\n",
    "print('Features before scaling \\n-------------------------------------------')\n",
    "print(X[:5,:])\n",
    "print('\\nTarget before scaling  \\n-------------------------------------------')\n",
    "print(y[:5])"
   ]
  },
  {
   "cell_type": "markdown",
   "id": "6c1d6d96",
   "metadata": {},
   "source": [
    "- Since the feaure variables are numeric and each column may be on a different scale, we need to standardize these numeric values to avoid disproportionate effect on the model"
   ]
  },
  {
   "cell_type": "code",
   "execution_count": 169,
   "id": "6757d034",
   "metadata": {},
   "outputs": [
    {
     "name": "stdout",
     "output_type": "stream",
     "text": [
      "Features after scaling \n",
      "------------------------------\n",
      "[[-0.90068117  1.01900435 -1.34022653 -1.3154443 ]\n",
      " [-1.14301691 -0.13197948 -1.34022653 -1.3154443 ]\n",
      " [-1.38535265  0.32841405 -1.39706395 -1.3154443 ]\n",
      " [-1.50652052  0.09821729 -1.2833891  -1.3154443 ]\n",
      " [-1.02184904  1.24920112 -1.34022653 -1.3154443 ]]\n"
     ]
    }
   ],
   "source": [
    "# creating a scaler model to fit on input data\n",
    "scaler = StandardScaler().fit(X)\n",
    "# transforming the data in X using the scaler model\n",
    "print('Features after scaling \\n------------------------------')\n",
    "X = scaler.transform(X)\n",
    "print(X[:5,:])"
   ]
  },
  {
   "cell_type": "markdown",
   "id": "3c457457",
   "metadata": {},
   "source": [
    "- Since the target variable is multi class, I will use one hot encoding to create three columns with each column representing a species."
   ]
  },
  {
   "cell_type": "code",
   "execution_count": 170,
   "id": "a4ccdd05",
   "metadata": {},
   "outputs": [
    {
     "name": "stdout",
     "output_type": "stream",
     "text": [
      "Target variable after one-hot-encoding \n",
      "----------------------\n",
      "[[1. 0. 0.]\n",
      " [1. 0. 0.]\n",
      " [1. 0. 0.]\n",
      " [1. 0. 0.]\n",
      " [1. 0. 0.]]\n"
     ]
    }
   ],
   "source": [
    "# Converting the target variable as a one-hot-encoding array\n",
    "y = tf.keras.utils.to_categorical(y,3)\n",
    "print('Target variable after one-hot-encoding \\n----------------------')\n",
    "print(y[:5])"
   ]
  },
  {
   "cell_type": "code",
   "execution_count": 171,
   "id": "72eb547d",
   "metadata": {},
   "outputs": [
    {
     "name": "stdout",
     "output_type": "stream",
     "text": [
      "Train - Test dimensions \n",
      "-------------------------------\n",
      "(135, 4) (135, 3) (15, 4) (15, 3)\n"
     ]
    }
   ],
   "source": [
    "# splitting the dataset into train and test sets\n",
    "# 10 % of the data is allocated for testing\n",
    "X_train,X_test,y_train,y_test = train_test_split(X,y,test_size=0.1,random_state=20)\n",
    "print('Train - Test dimensions \\n-------------------------------')\n",
    "print(X_train.shape,y_train.shape,X_test.shape,y_test.shape)"
   ]
  },
  {
   "cell_type": "markdown",
   "id": "1f88a780",
   "metadata": {},
   "source": [
    "- I am not splitting for validation as keras has a feature to create validation data set from the training data set."
   ]
  },
  {
   "cell_type": "markdown",
   "id": "bb470e95",
   "metadata": {},
   "source": [
    "## Building the model"
   ]
  },
  {
   "cell_type": "markdown",
   "id": "2ccd1224",
   "metadata": {},
   "source": [
    "Creating a model in Keras requires defining the following\n",
    "\n",
    "1. Number of hidden layers\n",
    "2. Number of nodes in each layer\n",
    "3. Activation functions\n",
    "4. Loss Function & Accuracy measurements"
   ]
  },
  {
   "cell_type": "code",
   "execution_count": 172,
   "id": "7c3cc10f",
   "metadata": {},
   "outputs": [],
   "source": [
    "from tensorflow import keras"
   ]
  },
  {
   "cell_type": "markdown",
   "id": "99357324",
   "metadata": {},
   "source": [
    "- Let's define the architecture and hyperparameters for the neural network"
   ]
  },
  {
   "cell_type": "code",
   "execution_count": 173,
   "id": "7ea1b4a3",
   "metadata": {},
   "outputs": [
    {
     "name": "stdout",
     "output_type": "stream",
     "text": [
      "Model: \"sequential_9\"\n",
      "_________________________________________________________________\n",
      " Layer (type)                Output Shape              Param #   \n",
      "=================================================================\n",
      " Hidden-Layer-1 (Dense)      (None, 128)               640       \n",
      "                                                                 \n",
      " Hidden-Layer-2 (Dense)      (None, 128)               16512     \n",
      "                                                                 \n",
      " Output-Layer (Dense)        (None, 3)                 387       \n",
      "                                                                 \n",
      "=================================================================\n",
      "Total params: 17,539\n",
      "Trainable params: 17,539\n",
      "Non-trainable params: 0\n",
      "_________________________________________________________________\n"
     ]
    }
   ],
   "source": [
    "# Number of classes in the target variable\n",
    "Nb_classes = 3\n",
    "\n",
    "# creating a sequenctial model in keras \n",
    "model = tf.keras.models.Sequential()\n",
    "\n",
    "# Adding the first hidden layer \n",
    "model.add(keras.layers.Dense(128,                                #Number of nodes             \n",
    "                            input_shape = (4,),                  #Number of input variables\n",
    "                            name = 'Hidden-Layer-1',             #Logical name\n",
    "                            activation = 'relu'))                #activation function\n",
    "\n",
    "# Adding a second hidden layer\n",
    "model.add(keras.layers.Dense(128,\n",
    "                            input_shape = (4,),\n",
    "                            name = 'Hidden-Layer-2',\n",
    "                            activation = 'relu'))\n",
    "\n",
    "# Adding an output layer with Softmax activation function\n",
    "model.add(keras.layers.Dense(Nb_classes,\n",
    "                            name = 'Output-Layer',\n",
    "                            activation = 'softmax'))\n",
    "\n",
    "# compiling the model with Loss and metrics\n",
    "model.compile(loss = 'categorical_crossentropy',\n",
    "             metrics = ['accuracy'])\n",
    "\n",
    "# model summary\n",
    "model.summary()"
   ]
  },
  {
   "cell_type": "markdown",
   "id": "73e87c1a",
   "metadata": {},
   "source": [
    "## Training and Evaluating the model"
   ]
  },
  {
   "cell_type": "markdown",
   "id": "541ac8c2",
   "metadata": {},
   "source": [
    "- Setting the hyper parameters for training, initally based on intuition and then these hyperparameters will be fine tuned on experimentation.\n",
    "- Setting verbose as 1 so that we can see the progress\n",
    "- setting batch size as 16 which is in the 2\\**n range\n",
    "- setting the number of epochs as 10 \n",
    "- I will use a validation split of 20% : 20% of the training data will be used by keras for validation after each epoch.\n",
    "- Though the recommended percentage of validation is 10, I am using 20% as the total sample size is only 150"
   ]
  },
  {
   "cell_type": "code",
   "execution_count": 174,
   "id": "dfb5602a",
   "metadata": {
    "scrolled": true
   },
   "outputs": [
    {
     "name": "stdout",
     "output_type": "stream",
     "text": [
      "Epoch 1/10\n",
      "7/7 [==============================] - 1s 34ms/step - loss: 0.8520 - accuracy: 0.6944 - val_loss: 0.4889 - val_accuracy: 0.8889\n",
      "Epoch 2/10\n",
      "7/7 [==============================] - 0s 10ms/step - loss: 0.5724 - accuracy: 0.8241 - val_loss: 0.3428 - val_accuracy: 0.8889\n",
      "Epoch 3/10\n",
      "7/7 [==============================] - 0s 8ms/step - loss: 0.4673 - accuracy: 0.8426 - val_loss: 0.2834 - val_accuracy: 0.8889\n",
      "Epoch 4/10\n",
      "7/7 [==============================] - 0s 8ms/step - loss: 0.4039 - accuracy: 0.8426 - val_loss: 0.2590 - val_accuracy: 0.8889\n",
      "Epoch 5/10\n",
      "7/7 [==============================] - 0s 8ms/step - loss: 0.3631 - accuracy: 0.8426 - val_loss: 0.2276 - val_accuracy: 0.8889\n",
      "Epoch 6/10\n",
      "7/7 [==============================] - 0s 8ms/step - loss: 0.3217 - accuracy: 0.8611 - val_loss: 0.2230 - val_accuracy: 0.9630\n",
      "Epoch 7/10\n",
      "7/7 [==============================] - 0s 8ms/step - loss: 0.2942 - accuracy: 0.8981 - val_loss: 0.1939 - val_accuracy: 0.9259\n",
      "Epoch 8/10\n",
      "7/7 [==============================] - 0s 8ms/step - loss: 0.2692 - accuracy: 0.8796 - val_loss: 0.1918 - val_accuracy: 0.9259\n",
      "Epoch 9/10\n",
      "7/7 [==============================] - 0s 8ms/step - loss: 0.2452 - accuracy: 0.8981 - val_loss: 0.1735 - val_accuracy: 0.9259\n",
      "Epoch 10/10\n",
      "7/7 [==============================] - 0s 8ms/step - loss: 0.2219 - accuracy: 0.9444 - val_loss: 0.1639 - val_accuracy: 0.9259\n"
     ]
    }
   ],
   "source": [
    "# Training the mdoel\n",
    "history = model.fit(X_train,\n",
    "                   y_train,\n",
    "                   batch_size=16,\n",
    "                   epochs = 10,\n",
    "                   verbose=1,\n",
    "                   validation_split=.2)"
   ]
  },
  {
   "cell_type": "markdown",
   "id": "2ba397bd",
   "metadata": {},
   "source": [
    "- on 10th epoch model has accuracy of 94.44% on training set and 92.59 on validation set"
   ]
  },
  {
   "cell_type": "code",
   "execution_count": 178,
   "id": "b074eae2",
   "metadata": {},
   "outputs": [
    {
     "data": {
      "text/plain": [
       "[0.6944444179534912,\n",
       " 0.8240740895271301,\n",
       " 0.8425925970077515,\n",
       " 0.8425925970077515,\n",
       " 0.8425925970077515,\n",
       " 0.8611111044883728,\n",
       " 0.8981481194496155,\n",
       " 0.8796296119689941,\n",
       " 0.8981481194496155,\n",
       " 0.9444444179534912]"
      ]
     },
     "execution_count": 178,
     "metadata": {},
     "output_type": "execute_result"
    }
   ],
   "source": [
    "history.history['accuracy']"
   ]
  },
  {
   "cell_type": "code",
   "execution_count": 179,
   "id": "15e1ee95",
   "metadata": {
    "scrolled": true
   },
   "outputs": [
    {
     "data": {
      "image/png": "[encoded data removed]",
      "text/plain": [
       "<Figure size 576x360 with 1 Axes>"
      ]
     },
     "metadata": {
      "needs_background": "light"
     },
     "output_type": "display_data"
    }
   ],
   "source": [
    "pd.DataFrame(history.history)[\"accuracy\"].plot(figsize=(8, 5))\n",
    "plt.title(\"Accuracy improvements with Epoch\")\n",
    "plt.show()"
   ]
  },
  {
   "cell_type": "markdown",
   "id": "8f9924b3",
   "metadata": {},
   "source": [
    "- As the number of epochs increases the accuracy also increases progressively and reaches 94.44%\n"
   ]
  },
  {
   "cell_type": "markdown",
   "id": "ee345e27",
   "metadata": {},
   "source": [
    "#### Evaluating the model against test set"
   ]
  },
  {
   "cell_type": "code",
   "execution_count": 180,
   "id": "8ecd091c",
   "metadata": {},
   "outputs": [
    {
     "name": "stdout",
     "output_type": "stream",
     "text": [
      "1/1 [==============================] - 0s 31ms/step - loss: 0.2445 - accuracy: 0.9333\n"
     ]
    },
    {
     "data": {
      "text/plain": [
       "[0.24451814591884613, 0.9333333373069763]"
      ]
     },
     "execution_count": 180,
     "metadata": {},
     "output_type": "execute_result"
    }
   ],
   "source": [
    "model.evaluate(X_test,y_test)"
   ]
  },
  {
   "cell_type": "markdown",
   "id": "e15072fc",
   "metadata": {},
   "source": [
    "- Model accuracy on test set : 93.33%"
   ]
  },
  {
   "cell_type": "markdown",
   "id": "22d48d3b",
   "metadata": {},
   "source": [
    "## Saving and Loading Models\n",
    "\n",
    "The training and inference environments are usually separate. Models need to be saved after they are validated. They are then loaded into the inference environments for actual prediction"
   ]
  },
  {
   "cell_type": "code",
   "execution_count": 181,
   "id": "ec6ab109",
   "metadata": {},
   "outputs": [
    {
     "name": "stderr",
     "output_type": "stream",
     "text": [
      "WARNING:absl:Function `_wrapped_model` contains input name(s) Hidden-Layer-1_input with unsupported characters which will be renamed to hidden_layer_1_input in the SavedModel.\n",
      "WARNING:absl:Found untraced functions such as _update_step_xla while saving (showing 1 of 1). These functions will not be directly callable after loading.\n"
     ]
    },
    {
     "name": "stdout",
     "output_type": "stream",
     "text": [
      "INFO:tensorflow:Assets written to: Iris_saved_model\\assets\n"
     ]
    },
    {
     "name": "stderr",
     "output_type": "stream",
     "text": [
      "INFO:tensorflow:Assets written to: Iris_saved_model\\assets\n"
     ]
    },
    {
     "name": "stdout",
     "output_type": "stream",
     "text": [
      "Model: \"sequential_9\"\n",
      "_________________________________________________________________\n",
      " Layer (type)                Output Shape              Param #   \n",
      "=================================================================\n",
      " Hidden-Layer-1 (Dense)      (None, 128)               640       \n",
      "                                                                 \n",
      " Hidden-Layer-2 (Dense)      (None, 128)               16512     \n",
      "                                                                 \n",
      " Output-Layer (Dense)        (None, 3)                 387       \n",
      "                                                                 \n",
      "=================================================================\n",
      "Total params: 17,539\n",
      "Trainable params: 17,539\n",
      "Non-trainable params: 0\n",
      "_________________________________________________________________\n",
      "None\n"
     ]
    }
   ],
   "source": [
    "# saving the model\n",
    "model.save('Iris_saved_model')\n",
    "\n",
    "# Loading the saved model\n",
    "loaded_model = keras.models.load_model('iris_saved_model')\n",
    "\n",
    "# printing summary of loaded model\n",
    "print(loaded_model.summary())\n"
   ]
  },
  {
   "cell_type": "markdown",
   "id": "10f234ec",
   "metadata": {},
   "source": [
    "## Prediction using deep learning model"
   ]
  },
  {
   "cell_type": "markdown",
   "id": "a03523b7",
   "metadata": {},
   "source": [
    "- Now that the model has been trained well, let's do some predictions with new data"
   ]
  },
  {
   "cell_type": "code",
   "execution_count": 184,
   "id": "cc09c2dd",
   "metadata": {},
   "outputs": [
    {
     "name": "stdout",
     "output_type": "stream",
     "text": [
      "1/1 [==============================] - 0s 31ms/step\n",
      "\n",
      "Raw Prediction Output (Probabilities) : [[0.02904807 0.6296591  0.3412928 ]]\n",
      "\n",
      "Predicted flower species is : ['versicolor']\n"
     ]
    }
   ],
   "source": [
    "# Inserting flower features as raw prediction data \n",
    "prediction_input = [[6.6, 3. , 4.4, 1.4]]\n",
    "\n",
    "# Scaling prediction data with the same scaling model\n",
    "scaled_input = scaler.transform(prediction_input)\n",
    "\n",
    "# getting prediction probabilities\n",
    "raw_pred = model.predict(scaled_input)\n",
    "print(\"\\nRaw Prediction Output (Probabilities) :\" , raw_pred)\n",
    "\n",
    "# finding the predicted species of flower\n",
    "prediction = np.argmax(raw_pred)\n",
    "print('\\nPredicted flower species is :',label_encoder.inverse_transform([prediction]))\n"
   ]
  },
  {
   "cell_type": "markdown",
   "id": "bf4cd7f5",
   "metadata": {},
   "source": [
    "- Here row_pred gives is the list of probabilities of the various classes of species (for the provided input data)\n",
    "- Argmax function is used to find the index of the highest probability and then used inverse transform to get the flower species."
   ]
  },
  {
   "cell_type": "code",
   "execution_count": null,
   "id": "6449e432",
   "metadata": {},
   "outputs": [],
   "source": []
  }
 ],
 "metadata": {
  "kernelspec": {
   "display_name": "Python 3 (ipykernel)",
   "language": "python",
   "name": "python3"
  },
  "language_info": {
   "codemirror_mode": {
    "name": "ipython",
    "version": 3
   },
   "file_extension": ".py",
   "mimetype": "text/x-python",
   "name": "python",
   "nbconvert_exporter": "python",
   "pygments_lexer": "ipython3",
   "version": "3.9.7"
  }
 },
 "nbformat": 4,
 "nbformat_minor": 5
}
